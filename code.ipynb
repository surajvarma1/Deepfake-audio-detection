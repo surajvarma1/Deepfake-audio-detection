{
  "nbformat": 4,
  "nbformat_minor": 0,
  "metadata": {
    "colab": {
      "provenance": [],
      "authorship_tag": "ABX9TyPI55+X9XPifWM/sQS/W2CA",
      "include_colab_link": true
    },
    "kernelspec": {
      "name": "python3",
      "display_name": "Python 3"
    },
    "language_info": {
      "name": "python"
    }
  },
  "cells": [
    {
      "cell_type": "markdown",
      "metadata": {
        "id": "view-in-github",
        "colab_type": "text"
      },
      "source": [
        "<a href=\"https://colab.research.google.com/github/surajvarma1/Deepfake-audio-detection/blob/main/code.ipynb\" target=\"_parent\"><img src=\"https://colab.research.google.com/assets/colab-badge.svg\" alt=\"Open In Colab\"/></a>"
      ]
    },
    {
      "cell_type": "code",
      "execution_count": null,
      "metadata": {
        "id": "HVd_kUClY4sk"
      },
      "outputs": [],
      "source": [
        "import pandas as pd\n",
        "from sklearn.model_selection import train_test_split\n",
        "from sklearn.preprocessing import StandardScaler\n",
        "\n",
        "# Load datasetvoice_dataset.csv\n",
        "data = pd.read_csv('/content/DATASET-balanced.csv')\n",
        "\n",
        "# Separate features and labels\n",
        "X = data.drop(columns=['LABEL'])\n",
        "y = data['LABEL']\n",
        "\n",
        "# Encode labels: 'fake' -> 0, 'real' -> 1\n",
        "y = y.map({'FAKE': 0, 'REAL': 1})\n",
        "\n",
        "# Split data into training and testing sets\n",
        "X_train, X_test, y_train, y_test = train_test_split(X, y, test_size=0.2, random_state=42)\n",
        "\n",
        "# Standardize features\n",
        "scaler = StandardScaler()\n",
        "X_train = scaler.fit_transform(X_train)\n",
        "X_test = scaler.transform(X_test)\n"
      ]
    },
    {
      "cell_type": "code",
      "source": [
        "import librosa\n",
        "import numpy as np\n",
        "\n",
        "def extract_features(file_path):\n",
        "    y, sr = librosa.load(file_path, sr=None)\n",
        "    features = {\n",
        "        'mel_freq': np.mean(librosa.feature.melspectrogram(y=y, sr=sr), axis=1),\n",
        "        'rolloff': np.mean(librosa.feature.spectral_rolloff(y=y, sr=sr)),\n",
        "        'spectral_bandwidth': np.mean(librosa.feature.spectral_bandwidth(y=y, sr=sr)),\n",
        "        'spectral_centroid': np.mean(librosa.feature.spectral_centroid(y=y, sr=sr)),\n",
        "        'rms': np.mean(librosa.feature.rms(y=y)),\n",
        "        'chroma_stft': np.mean(librosa.feature.chroma_stft(y=y, sr=sr))\n",
        "    }\n",
        "    feature_vector = np.concatenate([features['mel_freq'], [features['rolloff'], features['spectral_bandwidth'], features['spectral_centroid'], features['rms']], features['chroma_stft']])\n",
        "    return feature_vector\n",
        "\n",
        "# Example usage:\n",
        "# features = extract_features('path_to_audio_file.mp3')\n",
        "# features = scaler.transform([features])\n"
      ],
      "metadata": {
        "id": "CGkuOZmFZA9J"
      },
      "execution_count": null,
      "outputs": []
    },
    {
      "cell_type": "code",
      "source": [
        "from sklearn.svm import SVC\n",
        "from sklearn.metrics import classification_report, accuracy_score\n",
        "\n",
        "# Train SVM classifier\n",
        "svm_classifier = SVC(kernel='linear', probability=True)\n",
        "svm_classifier.fit(X_train, y_train)\n",
        "\n",
        "# Evaluate SVM classifier\n",
        "y_pred_svm = svm_classifier.predict(X_test)\n",
        "print('SVM Classifier Report:')\n",
        "print(classification_report(y_test, y_pred_svm))\n",
        "print('SVM Classifier Accuracy:', accuracy_score(y_test, y_pred_svm))\n"
      ],
      "metadata": {
        "id": "qJHwLRdEZDk2"
      },
      "execution_count": null,
      "outputs": []
    },
    {
      "cell_type": "code",
      "source": [
        "from tensorflow.keras.models import Sequential\n",
        "from tensorflow.keras.layers import Dense, Dropout\n",
        "\n",
        "# Define the deep learning model\n",
        "def create_model(input_shape):\n",
        "    model = Sequential()\n",
        "    model.add(Dense(256, activation='relu', input_shape=(input_shape,)))\n",
        "    model.add(Dropout(0.5))\n",
        "    model.add(Dense(128, activation='relu'))\n",
        "    model.add(Dropout(0.5))\n",
        "    model.add(Dense(64, activation='relu'))\n",
        "    model.add(Dense(1, activation='sigmoid'))\n",
        "    model.compile(optimizer='adam', loss='binary_crossentropy', metrics=['accuracy'])\n",
        "    return model\n",
        "\n",
        "# Train the model\n",
        "input_shape = X_train.shape[1]\n",
        "model = create_model(input_shape)\n",
        "model.fit(X_train, y_train, epochs=50, batch_size=32, validation_split=0.2)\n",
        "\n",
        "# Evaluate the model\n",
        "loss, accuracy = model.evaluate(X_test, y_test)\n",
        "print(f'Deep Learning Model Accuracy: {accuracy}')\n"
      ],
      "metadata": {
        "id": "03UMpnKFZHPM"
      },
      "execution_count": null,
      "outputs": []
    },
    {
      "cell_type": "code",
      "source": [
        "def predict(file_path, model, svm_classifier, scaler):\n",
        "    features = extract_features(file_path)\n",
        "    features_scaled = scaler.transform([features])\n",
        "\n",
        "    # SVM prediction\n",
        "    svm_pred = svm_classifier.predict(features_scaled)\n",
        "    svm_prob = svm_classifier.predict_proba(features_scaled)\n",
        "\n",
        "    # Deep learning prediction\n",
        "    dl_pred = model.predict(features_scaled)\n",
        "\n",
        "    result = {\n",
        "        'svm_prediction': 'real' if svm_pred[0] == 1 else 'fake',\n",
        "        'svm_probability': svm_prob[0],\n",
        "        'dl_prediction': 'real' if dl_pred[0] > 0.5 else 'fake',\n",
        "        'dl_probability': dl_pred[0]\n",
        "    }\n",
        "\n",
        "    return result\n",
        "\n",
        "# Example usage:\n",
        "# result = predict('path_to_audio_file.mp3', model, svm_classifier, scaler)\n",
        "# print(result)\n"
      ],
      "metadata": {
        "id": "_evarlPIZKzl"
      },
      "execution_count": null,
      "outputs": []
    }
  ]
}